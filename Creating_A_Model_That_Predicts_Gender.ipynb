{
  "nbformat": 4,
  "nbformat_minor": 0,
  "metadata": {
    "colab": {
      "name": "Creating  A Model That Predicts Gender.ipynb",
      "provenance": [],
      "authorship_tag": "ABX9TyN1F7K27BzZu4Wm9wENF1pd",
      "include_colab_link": true
    },
    "kernelspec": {
      "name": "python3",
      "display_name": "Python 3"
    }
  },
  "cells": [
    {
      "cell_type": "markdown",
      "metadata": {
        "id": "view-in-github",
        "colab_type": "text"
      },
      "source": [
        "<a href=\"https://colab.research.google.com/github/klimanyusuf/Model-that-Predicts-Gender/blob/master/Creating_A_Model_That_Predicts_Gender.ipynb\" target=\"_parent\"><img src=\"https://colab.research.google.com/assets/colab-badge.svg\" alt=\"Open In Colab\"/></a>"
      ]
    },
    {
      "cell_type": "code",
      "metadata": {
        "id": "-EaaX0LxSQKH",
        "colab_type": "code",
        "colab": {}
      },
      "source": [
        "# Determining the gender by a name\n",
        "# most likely names that ends with vowels are female while s and T are male\n",
        "# lets create a feature extraction function that captures the last letter of the name\n",
        "# the function take a word and returns the dictionary called last letter\n",
        "\n",
        "def gender_features(word):\n",
        "    return {\"last letter\":word[-1]}"
      ],
      "execution_count": 1,
      "outputs": []
    },
    {
      "cell_type": "code",
      "metadata": {
        "id": "6y9n6juQStgN",
        "colab_type": "code",
        "colab": {
          "base_uri": "https://localhost:8080/",
          "height": 35
        },
        "outputId": "e64a2753-1edb-4f81-fd15-73f63ef4630f"
      },
      "source": [
        "# testing the function\n",
        "gender_features('Katie')"
      ],
      "execution_count": 2,
      "outputs": [
        {
          "output_type": "execute_result",
          "data": {
            "text/plain": [
              "{'last letter': 'e'}"
            ]
          },
          "metadata": {
            "tags": []
          },
          "execution_count": 2
        }
      ]
    },
    {
      "cell_type": "code",
      "metadata": {
        "id": "woDouVQIS9yY",
        "colab_type": "code",
        "colab": {
          "base_uri": "https://localhost:8080/",
          "height": 72
        },
        "outputId": "56f11762-17ec-4fa3-c06d-f701c03ebac2"
      },
      "source": [
        "import nltk\n",
        "nltk.download('names')"
      ],
      "execution_count": 8,
      "outputs": [
        {
          "output_type": "stream",
          "text": [
            "[nltk_data] Downloading package names to /root/nltk_data...\n",
            "[nltk_data]   Unzipping corpora/names.zip.\n"
          ],
          "name": "stdout"
        },
        {
          "output_type": "execute_result",
          "data": {
            "text/plain": [
              "True"
            ]
          },
          "metadata": {
            "tags": []
          },
          "execution_count": 8
        }
      ]
    },
    {
      "cell_type": "code",
      "metadata": {
        "id": "LTgE42HZSy7_",
        "colab_type": "code",
        "colab": {}
      },
      "source": [
        "# create a list of labelled names\n",
        "from nltk.corpus import names\n",
        "labeled_names =([(name,'male')for name in names.words('male.txt')]+\n",
        "               [(name,'female')for name in names.words('female.txt')])"
      ],
      "execution_count": 9,
      "outputs": []
    },
    {
      "cell_type": "code",
      "metadata": {
        "id": "F3XVKxFcTZMV",
        "colab_type": "code",
        "colab": {}
      },
      "source": [
        "# shuffle the names\n",
        "import random\n",
        "random.shuffle(labeled_names)"
      ],
      "execution_count": 10,
      "outputs": []
    },
    {
      "cell_type": "code",
      "metadata": {
        "id": "0tr4P_pCTarO",
        "colab_type": "code",
        "colab": {}
      },
      "source": [
        "#using the feature set we have created earlier, we create a feature set\n",
        "featuresets = [(gender_features(n),gender)for (n,gender)in labeled_names]"
      ],
      "execution_count": 11,
      "outputs": []
    },
    {
      "cell_type": "code",
      "metadata": {
        "id": "9ZYb2stmTfP3",
        "colab_type": "code",
        "colab": {}
      },
      "source": [
        "# training the featuresets\n",
        "trainset,testset = featuresets[500:],featuresets[:500]"
      ],
      "execution_count": 12,
      "outputs": []
    },
    {
      "cell_type": "markdown",
      "metadata": {
        "id": "RMh2a-ZSTsmH",
        "colab_type": "text"
      },
      "source": [
        "**Defining our Naive BayesClassifier and train it with the trained featureset created above**"
      ]
    },
    {
      "cell_type": "code",
      "metadata": {
        "id": "r8fS_UohT571",
        "colab_type": "code",
        "colab": {}
      },
      "source": [
        "import nltk\n",
        "Classifier = nltk.NaiveBayesClassifier.train(trainset)"
      ],
      "execution_count": 13,
      "outputs": []
    },
    {
      "cell_type": "code",
      "metadata": {
        "id": "e8DpuyIXUFnG",
        "colab_type": "code",
        "colab": {
          "base_uri": "https://localhost:8080/",
          "height": 36
        },
        "outputId": "0c810f4d-feb9-4e44-a412-9e61a9d565bd"
      },
      "source": [
        "# testing the classifier by passing a name\n",
        "Classifier.classify(gender_features('Fatima'))"
      ],
      "execution_count": 14,
      "outputs": [
        {
          "output_type": "execute_result",
          "data": {
            "application/vnd.google.colaboratory.intrinsic": {
              "type": "string"
            },
            "text/plain": [
              "'female'"
            ]
          },
          "metadata": {
            "tags": []
          },
          "execution_count": 14
        }
      ]
    },
    {
      "cell_type": "code",
      "metadata": {
        "colab_type": "code",
        "id": "RAmxTY3qUOuO",
        "colab": {
          "base_uri": "https://localhost:8080/",
          "height": 36
        },
        "outputId": "4a8075e9-65c8-42d9-e830-3fa08c097696"
      },
      "source": [
        "# testing the classifier by passing a name\n",
        "Classifier.classify(gender_features('Khalid'))"
      ],
      "execution_count": 16,
      "outputs": [
        {
          "output_type": "execute_result",
          "data": {
            "application/vnd.google.colaboratory.intrinsic": {
              "type": "string"
            },
            "text/plain": [
              "'male'"
            ]
          },
          "metadata": {
            "tags": []
          },
          "execution_count": 16
        }
      ]
    }
  ]
}